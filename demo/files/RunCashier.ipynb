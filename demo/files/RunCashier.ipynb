{
 "cells": [
  {
   "cell_type": "code",
   "execution_count": null,
   "id": "42e233cb",
   "metadata": {},
   "outputs": [],
   "source": [
    "# Before doing anything, we must runtime install some libraries into jupyterlite\n",
    "%pip install -q nbformat plotly upstage-des>=0.4,<5"
   ]
  },
  {
   "cell_type": "markdown",
   "id": "1869cbe9",
   "metadata": {},
   "source": [
    "# Cashier Simulation\n",
    "\n",
    "This is an example model built using UPSTAGE, where cashiers check customers through checkout lanes, help restock shelves, and have periodic breaks."
   ]
  },
  {
   "cell_type": "code",
   "execution_count": null,
   "id": "4ec8f6a2",
   "metadata": {},
   "outputs": [],
   "source": [
    "import upstage_des.api as UP\n",
    "from upstage_des.data_utils import create_table\n",
    "from model.cashier_model import (\n",
    "    Cashier,\n",
    "    CheckoutLane,\n",
    "    cashier_task_network,\n",
    "    cashier_message_net,\n",
    "    customer_spawner,\n",
    "    manager_process,\n",
    "    StoreBoss,\n",
    ")\n",
    "from model.helpers import to_step, doing_to_gantt\n",
    "import pandas as pd\n",
    "from datetime import datetime, timedelta\n",
    "\n",
    "import plotly.express as px"
   ]
  },
  {
   "cell_type": "markdown",
   "id": "ebfb4150",
   "metadata": {},
   "source": [
    "## Sim Creation\n",
    "\n",
    "The simulation is created inside the `EnvironmentContext`. Note that we are controlling the random seed, setting a start time other than 0, and that data gathering must happen in the context.\n",
    "\n",
    "Normally you'd want to put most of this code inside a function:\n",
    "\n",
    "```python\n",
    "def build_sim(sim_data) -> SimObjects:\n",
    "    ...\n",
    "\n",
    "with UP.EnvironmentContext() as env:\n",
    "    simobj = build_sim(some_data_source)\n",
    "    env.run()\n",
    "```\n",
    "\n",
    "but for now we'll put everything in one place so you can see the machinery."
   ]
  },
  {
   "cell_type": "code",
   "execution_count": null,
   "id": "1b777a07",
   "metadata": {},
   "outputs": [],
   "source": [
    "with UP.EnvironmentContext(initial_time=8 * 60, random_seed=2881680) as env:\n",
    "    UP.add_stage_variable(\"time_unit\", \"min\")\n",
    "    cashier = Cashier(\n",
    "        name=\"Bob\",\n",
    "        scan_speed=1.0,\n",
    "        time_until_break=160.0,\n",
    "        breaks_until_done=4,\n",
    "        debug_log=True,\n",
    "    )\n",
    "    cashier2 = Cashier(\n",
    "        name=\"Ertha\",\n",
    "        scan_speed=1.0,\n",
    "        time_until_break=160.0,\n",
    "        breaks_until_done=4,\n",
    "        debug_log=True,\n",
    "    )\n",
    "    lane_1 = CheckoutLane(name=\"Lane 1\")\n",
    "    lane_2 = CheckoutLane(name=\"Lane 2\")\n",
    "    boss = StoreBoss(lanes=[lane_1, lane_2])\n",
    "\n",
    "    UP.add_stage_variable(\"boss\", boss)\n",
    "\n",
    "    for cash in [cashier, cashier2]:\n",
    "        net = cashier_task_network.make_network()\n",
    "        cash.add_task_network(net)\n",
    "        cash.start_network_loop(net.name, \"GoToWork\")\n",
    "\n",
    "        net = cashier_message_net.make_network()\n",
    "        cash.add_task_network(net)\n",
    "        cash.start_network_loop(net.name, \"CashierMessages\")\n",
    "\n",
    "    customer_proc = customer_spawner(env, [lane_1, lane_2], max_wait=6.)\n",
    "    _ = env.process(customer_proc)\n",
    "\n",
    "    _ = env.process(manager_process(boss, [cashier, cashier2]))\n",
    "\n",
    "    # Optional forcing of a restock before a break to test behavior\n",
    "    # def _proc():\n",
    "    #     yield env.timeout(8*60 + 10)\n",
    "    #     yield cashier2.messages.put([\"Restock\"])\n",
    "    # env.process(_proc())\n",
    "\n",
    "    env.run(until=20 * 60)\n",
    "    data, cols = create_table()"
   ]
  },
  {
   "cell_type": "markdown",
   "id": "6e31ffa7",
   "metadata": {},
   "source": [
    "## Data Processing\n",
    "\n",
    "Create a pandas dataframe of the data and convert the time to a datetime for use with Plotly."
   ]
  },
  {
   "cell_type": "code",
   "execution_count": null,
   "id": "99ac332a",
   "metadata": {},
   "outputs": [],
   "source": [
    "df = pd.DataFrame(data, columns=cols)\n",
    "# convert time to a datetime\n",
    "start = datetime(2025, 6, 10)\n",
    "df[\"Time\"] = df.Time.apply(lambda x: start + timedelta(minutes=x))"
   ]
  },
  {
   "cell_type": "markdown",
   "id": "f5d05de1",
   "metadata": {},
   "source": [
    "## Visualization\n",
    "\n",
    "The data from UPSTAGE is not immediately formatted for some plot styles. See `model/helpers.py` for code that turns the raw data into more plotting friendly forms.\n",
    "\n",
    "## Customer Queue Sizes"
   ]
  },
  {
   "cell_type": "code",
   "execution_count": null,
   "id": "535f2e55",
   "metadata": {},
   "outputs": [],
   "source": [
    "for name, grp in df[(df[\"Entity Type\"]==\"CheckoutLane\")].groupby(\"Entity Name\"):\n",
    "    stepped = to_step(\n",
    "        [\n",
    "            (row[\"Time\"], row[\"Value\"])\n",
    "            for _, row in grp.iterrows()\n",
    "            if row[\"State Name\"] == \"customer_queue\"\n",
    "        ],\n",
    "        last_time=df.Time.max(),\n",
    "    )\n",
    "    dfgrp = pd.DataFrame(stepped, columns=[\"Time\", \"Customers Waiting\"])\n",
    "    fig = px.line(dfgrp, x='Time', y=\"Customers Waiting\")\n",
    "    fig.update_layout(title_text=f\"{name} Data\", )\n",
    "    fig.show()"
   ]
  },
  {
   "cell_type": "markdown",
   "id": "c3b47755",
   "metadata": {},
   "source": [
    "## Cashier Task Timeline\n",
    "\n",
    "Using a `State` that is recording and stores a string is a great way to easily get activity data over time for your actors. This is highly recommended for quicker debugging and model verification.\n",
    "\n",
    "In this model, `current_task` is the `State`, and we process the state date into a gantt chart form for Plotly."
   ]
  },
  {
   "cell_type": "code",
   "execution_count": null,
   "id": "770db8f6",
   "metadata": {},
   "outputs": [],
   "source": [
    "g1 = doing_to_gantt(df, \"Bob\", \"current_task\")\n",
    "g2 = doing_to_gantt(df, \"Ertha\", \"current_task\")\n",
    "g1[\"Cashier\"] = \"Bob\"\n",
    "g2[\"Cashier\"] = \"Ertha\"\n",
    "g = pd.concat((g1, g2))"
   ]
  },
  {
   "cell_type": "code",
   "execution_count": null,
   "id": "8076b73a",
   "metadata": {},
   "outputs": [],
   "source": [
    "fig = px.timeline(\n",
    "    g, facet_col=\"Cashier\", x_start=\"Start\", x_end=\"Finish\", y=\"Task\", color=\"Task\",\n",
    "    facet_col_wrap=1, facet_row_spacing=0.1, height=600)\n",
    "fig.show()"
   ]
  }
 ],
 "metadata": {
  "kernelspec": {
   "display_name": ".venv",
   "language": "python",
   "name": "python3"
  },
  "language_info": {
   "codemirror_mode": {
    "name": "ipython",
    "version": 3
   },
   "file_extension": ".py",
   "mimetype": "text/x-python",
   "name": "python",
   "nbconvert_exporter": "python",
   "pygments_lexer": "ipython3",
   "version": "3.12.5"
  }
 },
 "nbformat": 4,
 "nbformat_minor": 5
}
